{
 "cells": [
  {
   "cell_type": "code",
   "execution_count": null,
   "metadata": {
    "_cell_guid": "b1076dfc-b9ad-4769-8c92-a6c4dae69d19",
    "_uuid": "8f2839f25d086af736a60e9eeb907d3b93b6e0e5"
   },
   "outputs": [],
   "source": [
    "import os\n",
    "import json\n",
    "import numpy as np\n",
    "import pandas as pd\n",
    "import matplotlib.pyplot as plt\n",
    "import seaborn as sn\n",
    "import skimage.io\n",
    "import keras.backend as K\n",
    "import tensorflow as tf\n",
    "from tensorflow.keras.preprocessing.image import ImageDataGenerator\n",
    "from tensorflow.keras.applications import ResNet50\n",
    "from tensorflow.keras.layers import Dense, Flatten, Dropout,BatchNormalization ,Activation\n",
    "from tensorflow.keras.models import Model, Sequential\n",
    "from keras.applications.nasnet import NASNetLarge\n",
    "from tensorflow.keras.callbacks import ReduceLROnPlateau, ModelCheckpoint, EarlyStopping\n",
    "from tensorflow.keras.optimizers import Adam\n",
    "\n",
    "os.environ[\"CUDA_VISIBLE_DEVICES\"]=\"0\""
   ]
  },
  {
   "cell_type": "code",
   "execution_count": null,
   "metadata": {},
   "outputs": [],
   "source": [
    "Trial = 'ensemble'"
   ]
  },
  {
   "cell_type": "code",
   "execution_count": null,
   "metadata": {},
   "outputs": [],
   "source": [
    "# train_datagen = ImageDataGenerator(\n",
    "#     rescale = 1./255,                                  \n",
    "#     rotation_range=5,\n",
    "#     width_shift_range=0.2,\n",
    "#     height_shift_range=0.2,\n",
    "#     shear_range=0.2,\n",
    "#     #zoom_range=0.2,\n",
    "#     horizontal_flip=True,\n",
    "#     fill_mode='nearest')\n",
    "\n",
    "valid_datagen = ImageDataGenerator(rescale = 1./255)\n",
    "# test_datagen  = ImageDataGenerator(rescale = 1./255)"
   ]
  },
  {
   "cell_type": "code",
   "execution_count": null,
   "metadata": {},
   "outputs": [],
   "source": [
    "valid_dataset = valid_datagen.flow_from_directory(directory = '../input/fer2013/test',\n",
    "                                                  target_size = (224,224),\n",
    "                                                  interpolation='bilinear',\n",
    "                                                  class_mode = 'categorical',\n",
    "                                                  batch_size = 64,\n",
    "                                                  shuffle=False)"
   ]
  },
  {
   "cell_type": "code",
   "execution_count": null,
   "metadata": {},
   "outputs": [],
   "source": [
    "# test_dataset = test_datagen.flow_from_directory(directory = '../input/fer2013/test',\n",
    "#                                                   target_size = (48,48),\n",
    "#                                                   interpolation='bilinear',\n",
    "#                                                   class_mode = 'categorical',\n",
    "#                                                   batch_size = 64)"
   ]
  },
  {
   "cell_type": "code",
   "execution_count": null,
   "metadata": {},
   "outputs": [],
   "source": [
    "model1 = tf.keras.applications.ResNet50(input_shape=(224,224,3),include_top=True,weights=None,classes=7)\n",
    "model1.compile(optimizer='Adam', loss='categorical_crossentropy',metrics=['accuracy'])\n",
    "model1.load_weights('../input/emotion-util/ResNet_continue.h5')"
   ]
  },
  {
   "cell_type": "code",
   "execution_count": null,
   "metadata": {},
   "outputs": [],
   "source": [
    "model2 = tf.keras.applications.MobileNetV2(input_shape=(224,224,3),include_top=True,weights=None,classes=7)\n",
    "model2.compile(optimizer='Adam', loss='categorical_crossentropy',metrics=['accuracy'])\n",
    "model2.load_weights('../input/emotion-util/MobileNet.h5')"
   ]
  },
  {
   "cell_type": "code",
   "execution_count": null,
   "metadata": {},
   "outputs": [],
   "source": [
    "model3 = tf.keras.applications.InceptionV3(input_shape=(224,224,3),include_top=True,weights=None,classes=7)\n",
    "model3.compile(optimizer='Adam', loss='categorical_crossentropy',metrics=['accuracy'])\n",
    "model3.load_weights('../input/emotion-util/InceptionNet.h5')"
   ]
  },
  {
   "cell_type": "code",
   "execution_count": null,
   "metadata": {},
   "outputs": [],
   "source": [
    "pred1 = model1.predict_generator(valid_dataset,max_queue_size=10, workers=1, use_multiprocessing=True, verbose=1)\n",
    "p1 = pred1.argmax(axis=1)\n",
    "(p1 == valid_dataset.labels).sum()/7178"
   ]
  },
  {
   "cell_type": "code",
   "execution_count": null,
   "metadata": {},
   "outputs": [],
   "source": [
    "import seaborn as sns\n",
    "from sklearn import metrics\n",
    "\n",
    "cm1 = metrics.confusion_matrix(valid_dataset.labels, p1)\n",
    "\n",
    "plt.figure(figsize=(9,9))\n",
    "sns.heatmap(cm1, annot=True, fmt=\".0f\", linewidths=.5, square=True, cmap='Blues')\n",
    "plt.ylabel('true emotion', size=17)\n",
    "plt.xlabel('predicted emotion', size=17)\n",
    "plt.savefig('cm1',dpi=500,bbox_inches = 'tight')"
   ]
  },
  {
   "cell_type": "code",
   "execution_count": null,
   "metadata": {},
   "outputs": [],
   "source": [
    "valid_dataset.labels.shap"
   ]
  },
  {
   "cell_type": "code",
   "execution_count": null,
   "metadata": {},
   "outputs": [],
   "source": [
    "pred2 = model2.predict_generator(valid_dataset,max_queue_size=10, workers=1, use_multiprocessing=True, verbose=1)\n",
    "p2 = pred2.argmax(axis=1)\n",
    "(p2 == valid_dataset.labels).sum()/7178"
   ]
  },
  {
   "cell_type": "code",
   "execution_count": null,
   "metadata": {},
   "outputs": [],
   "source": [
    "import seaborn as sns\n",
    "from sklearn import metrics\n",
    "\n",
    "cm2 = metrics.confusion_matrix(valid_dataset.labels, p2)\n",
    "\n",
    "plt.figure(figsize=(9,9))\n",
    "sns.heatmap(cm2, annot=True, fmt=\".0f\", linewidths=.5, square=True, cmap='Blues')\n",
    "plt.ylabel('true emotion', size=17)\n",
    "plt.xlabel('predicted emotion', size=17)\n",
    "plt.savefig('cm2',dpi=500,bbox_inches = 'tight')"
   ]
  },
  {
   "cell_type": "code",
   "execution_count": null,
   "metadata": {},
   "outputs": [],
   "source": [
    "pred3 = model3.predict_generator(valid_dataset,max_queue_size=10, workers=1, use_multiprocessing=True, verbose=1)\n",
    "p3 = pred3.argmax(axis=1)\n",
    "(p3 == valid_dataset.labels).sum()/7178"
   ]
  },
  {
   "cell_type": "code",
   "execution_count": null,
   "metadata": {},
   "outputs": [],
   "source": [
    "import seaborn as sns\n",
    "from sklearn import metrics\n",
    "\n",
    "cm3 = metrics.confusion_matrix(valid_dataset.labels, p3)\n",
    "\n",
    "plt.figure(figsize=(9,9))\n",
    "sns.heatmap(cm3, annot=True, fmt=\".0f\", linewidths=.5, square=True, cmap='Blues')\n",
    "plt.ylabel('true emotion', size=17)\n",
    "plt.xlabel('predicted emotion', size=17)\n",
    "plt.savefig('cm3',dpi=500,bbox_inches = 'tight')"
   ]
  },
  {
   "cell_type": "code",
   "execution_count": null,
   "metadata": {},
   "outputs": [],
   "source": [
    "ensemble_pred = pred1 + pred2 + pred3\n",
    "ensemble_p = ensemble_pred.argmax(axis=1)\n",
    "(ensemble_p == valid_dataset.labels).sum()/7178"
   ]
  },
  {
   "cell_type": "code",
   "execution_count": null,
   "metadata": {},
   "outputs": [],
   "source": [
    "import seaborn as sns\n",
    "from sklearn import metrics\n",
    "\n",
    "cm4 = metrics.confusion_matrix(valid_dataset.labels, ensemble_p)\n",
    "\n",
    "plt.figure(figsize=(9,9))\n",
    "sns.heatmap(cm4, annot=True, fmt=\".0f\", linewidths=.5, square=True, cmap='Blues')\n",
    "plt.ylabel('true emotion', size=17)\n",
    "plt.xlabel('predicted emotion', size=17)\n",
    "plt.savefig('cm4',dpi=500,bbox_inches = 'tight')"
   ]
  }
 ],
 "metadata": {
  "kernelspec": {
   "display_name": "Python 3",
   "language": "python",
   "name": "python3"
  },
  "language_info": {
   "codemirror_mode": {
    "name": "ipython",
    "version": 3
   },
   "file_extension": ".py",
   "mimetype": "text/x-python",
   "name": "python",
   "nbconvert_exporter": "python",
   "pygments_lexer": "ipython3",
   "version": "3.7.1"
  }
 },
 "nbformat": 4,
 "nbformat_minor": 4
}
