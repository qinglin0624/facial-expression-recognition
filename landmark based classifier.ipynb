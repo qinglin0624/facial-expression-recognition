{
 "cells": [
  {
   "cell_type": "code",
   "execution_count": null,
   "metadata": {},
   "outputs": [],
   "source": [
    "import pandas as pd\n",
    "import numpy as np\n",
    "import keras\n",
    "from keras.models import Sequential\n",
    "from keras.layers import Dense, Dropout, Flatten\n",
    "from keras.optimizers import RMSprop, Adam\n",
    "import math\n",
    "import matplotlib.pyplot as plt"
   ]
  },
  {
   "cell_type": "code",
   "execution_count": null,
   "metadata": {},
   "outputs": [],
   "source": [
    "df = pd.read_csv('../input/224-landmarks/feature_extra.csv')\n",
    "emotion_label_to_text = {0:'anger', 1:'disgust', 2:'fear', 3:'happiness', 4: 'sadness', 5: 'surprise', 6: 'neutral'}\n",
    "print(df.shape)\n",
    "df.emotion.value_counts()"
   ]
  },
  {
   "cell_type": "code",
   "execution_count": null,
   "metadata": {},
   "outputs": [],
   "source": [
    "\"\"\"\n",
    "  `image` is a 2-D numpy array\n",
    "  `height` and `width` are the desired spatial dimension of the new 2-D array.\n",
    "  \"\"\"\n",
    "def bilinear_resize(image, height, width):\n",
    "    img_height, img_width = image.shape[:2]\n",
    "    resized = np.empty([height, width])\n",
    "    x_ratio = float(img_width - 1) / (width - 1) if width > 1 else 0\n",
    "    y_ratio = float(img_height - 1) / (height - 1) if height > 1 else 0\n",
    "\n",
    "    for i in range(height):\n",
    "        for j in range(width):\n",
    "            x_l, y_l = math.floor(x_ratio * j), math.floor(y_ratio * i)\n",
    "            x_h, y_h = math.ceil(x_ratio * j), math.ceil(y_ratio * i)\n",
    "\n",
    "            x_weight = (x_ratio * j) - x_l\n",
    "            y_weight = (y_ratio * i) - y_l\n",
    "\n",
    "            a = image[y_l, x_l]\n",
    "            b = image[y_l, x_h]\n",
    "            c = image[y_h, x_l]\n",
    "            d = image[y_h, x_h]\n",
    "\n",
    "            pixel = a * (1 - x_weight) * (1 - y_weight) + b * x_weight * (1 - y_weight) +  c * y_weight * (1 - x_weight) + d * x_weight * y_weight\n",
    "\n",
    "            resized[i][j] = pixel\n",
    "\n",
    "    return resized"
   ]
  },
  {
   "cell_type": "markdown",
   "metadata": {},
   "source": [
    "#### Feature visualization"
   ]
  },
  {
   "cell_type": "code",
   "execution_count": null,
   "metadata": {},
   "outputs": [],
   "source": [
    "i = 1200\n",
    "img_str = df.loc[i]['pixels']\n",
    "img_int = [int(x) for x in img_str.split()]\n",
    "img = np.array(img_int).reshape(48,48)\n",
    "img = bilinear_resize(img,224,224)\n",
    "\n",
    "bbx = [int(x)for x in df.loc[i]['bbx'].split()]\n",
    "img = img[bbx[2]:bbx[3],bbx[0]:bbx[1]]\n",
    "\n",
    "lm_str = df.loc[i]['relative_lm']\n",
    "lm_int = [int(x) for x in lm_str.split()]\n",
    "lm = np.array(lm_int).reshape(68,2)\n",
    "\n",
    "l_c = np.array([lm[39,0],lm[39,1]])\n",
    "r_c = np.array([lm[42,0],lm[42,1]])\n",
    "\n",
    "plt.figure(figsize = (10,10))\n",
    "for i in range(17,22):\n",
    "    dis = np.vstack((lm[i,:], l_c))\n",
    "    plt.plot(dis[:,0],dis[:,1],c ='#E238EC' )\n",
    "for i in range(22,27):\n",
    "    dis = np.vstack((lm[i,:], r_c))\n",
    "    plt.plot(dis[:,0],dis[:,1],c ='#E238EC' )\n",
    "\n",
    "for j in range(36,42):\n",
    "    dis = np.vstack((lm[j,:], l_c))\n",
    "    plt.plot(dis[:,0],dis[:,1],c ='#E0B0FF' )\n",
    "for j in range(42,48):\n",
    "    dis = np.vstack((lm[j,:], r_c))\n",
    "    plt.plot(dis[:,0],dis[:,1],c ='#E0B0FF' )\n",
    "\n",
    "\n",
    "nose_c = np.array([lm[33,0],lm[33,1]])\n",
    "for j in range(48,61):\n",
    "    dis = np.vstack((lm[j,:], nose_c))\n",
    "    plt.plot(dis[:,0],dis[:,1],c ='#7DFDFE' )\n",
    "\n",
    "dis = np.vstack((lm[64,:], nose_c))\n",
    "plt.plot(dis[:,0],dis[:,1],c ='#7DFDFE' )\n",
    "\n",
    "width = np.vstack((lm[54,:],lm[48,:]))\n",
    "height = np.vstack((lm[57,:],lm[51,:]))\n",
    "\n",
    "plt.plot(width[:,0],width[:,1],c ='#7DFDFE' )\n",
    "plt.plot(height[:,0],height[:,1],c ='#7DFDFE' )\n",
    "\n",
    "plt.imshow(img,cmap = 'gray')\n",
    "plt.scatter(lm[:,0],lm[:,1],c = '#1589FF',s  =40)\n",
    "\n",
    "plt.axis('off')\n",
    "plt.show()"
   ]
  },
  {
   "cell_type": "markdown",
   "metadata": {},
   "source": [
    "### Prepare Data"
   ]
  },
  {
   "cell_type": "code",
   "execution_count": null,
   "metadata": {},
   "outputs": [],
   "source": [
    "train = df[df['Usage']=='Training'].copy().reset_index()\n",
    "test = df[df['Usage']=='PrivateTest'].copy().reset_index()\n",
    "val = df[df['Usage']=='PublicTest'].copy().reset_index()\n",
    "# y data\n",
    "y_train = np.array(train['emotion'])\n",
    "y_test = np.array(test['emotion'])\n",
    "y_val = np.array(val['emotion'])"
   ]
  },
  {
   "cell_type": "markdown",
   "metadata": {},
   "source": [
    "#### Genrate training data X"
   ]
  },
  {
   "cell_type": "code",
   "execution_count": null,
   "metadata": {},
   "outputs": [],
   "source": [
    "def generate_X(df):\n",
    "    X = np.empty([df.shape[0],176])\n",
    "    for i in range(df.shape[0]):\n",
    "        lm = [float(x) for x in df.loc[i]['relative_lm'].split()][:136]\n",
    "\n",
    "        brow_dis = [float(x) for x in df.loc[i]['brow_distance'].split()]\n",
    "        \n",
    "        eye_dis = [float(x) for x in df.loc[i]['eyes_distance'].split()]\n",
    "\n",
    "        mouth_dis = [float(x) for x in df.loc[i]['mouth_distance'].split()]\n",
    "\n",
    "        mouth_width = [float(df.loc[i]['mouth_width'])]\n",
    "        mouth_height = [float(df.loc[i]['mouth_height'])]\n",
    "        \n",
    "        mouth_upward = [float(x) for x in df.loc[i]['mouth_upward'].split()]\n",
    "        \n",
    "        all_feature = lm+brow_dis+eye_dis+mouth_dis+mouth_width+mouth_height+mouth_upward\n",
    "        \n",
    "        X[i,:] = all_feature\n",
    "    return X\n",
    "\n",
    "X_train = generate_X(train)\n",
    "X_test = generate_X(test)\n",
    "X_val = generate_X(val)"
   ]
  },
  {
   "cell_type": "code",
   "execution_count": null,
   "metadata": {},
   "outputs": [],
   "source": [
    "from sklearn import preprocessing\n",
    "scaler = preprocessing.StandardScaler().fit(X_train)\n",
    "X_train = scaler.transform(X_train)\n",
    "X_test = scaler.transform(X_test)\n",
    "X_val = scaler.transform(X_val)"
   ]
  },
  {
   "cell_type": "code",
   "execution_count": null,
   "metadata": {},
   "outputs": [],
   "source": [
    "print(X_train.shape,X_test.shape,X_val.shape)"
   ]
  },
  {
   "cell_type": "markdown",
   "metadata": {},
   "source": [
    "#### Get training data y"
   ]
  },
  {
   "cell_type": "code",
   "execution_count": null,
   "metadata": {},
   "outputs": [],
   "source": [
    "print(np.unique(y_train, return_counts=True))\n",
    "print(np.unique(y_test, return_counts=True))\n",
    "print(np.unique(y_val, return_counts=True))"
   ]
  },
  {
   "cell_type": "code",
   "execution_count": null,
   "metadata": {},
   "outputs": [],
   "source": [
    "y_train = keras.utils.to_categorical(y_train, 7)\n",
    "y_test = keras.utils.to_categorical(y_test, 7)\n",
    "y_val= keras.utils.to_categorical(y_val, 7)"
   ]
  },
  {
   "cell_type": "markdown",
   "metadata": {},
   "source": [
    "### Model"
   ]
  },
  {
   "cell_type": "code",
   "execution_count": null,
   "metadata": {},
   "outputs": [],
   "source": [
    "model = Sequential()\n",
    "model.add(Dense(176, activation='relu', input_shape=(176,)))\n",
    "model.add(Dense(512, activation='relu'))\n",
    "model.add(Dropout(0.6))\n",
    "model.add(Dense(7, activation='softmax'))\n",
    "\n",
    "model.summary()\n",
    "\n",
    "model.compile(loss='categorical_crossentropy',\n",
    "              optimizer= Adam(lr = 1e-4),                             \n",
    "              metrics=['accuracy'])"
   ]
  },
  {
   "cell_type": "code",
   "execution_count": null,
   "metadata": {},
   "outputs": [],
   "source": [
    "batch_size = 32\n",
    "epochs =50\n",
    "from keras.callbacks import EarlyStopping\n",
    "early_stopping_monitor = EarlyStopping(monitor='val_loss', patience=4)\n",
    "\n",
    "history = model.fit(X_train, y_train,\n",
    "                    batch_size=batch_size,\n",
    "                    epochs=epochs,\n",
    "                    callbacks=[early_stopping_monitor],\n",
    "                    verbose=1,             \n",
    "                    validation_data=(X_val, y_val))\n",
    "\n",
    "# evaluate model performance\n",
    "score = model.evaluate(X_test, y_test, verbose=0)\n",
    "print('Test loss:', score[0])\n",
    "print('Test accuracy:', score[1])"
   ]
  },
  {
   "cell_type": "code",
   "execution_count": null,
   "metadata": {},
   "outputs": [],
   "source": [
    "# Save model\n",
    "model.save_weights('landmarks_7c.h5')\n",
    "model.save('lm_model')"
   ]
  },
  {
   "cell_type": "code",
   "execution_count": null,
   "metadata": {},
   "outputs": [],
   "source": [
    "# Plot training process\n",
    "accuracy = history.history['accuracy']\n",
    "val_accuracy = history.history['val_accuracy']\n",
    "loss = history.history['loss']\n",
    "val_loss = history.history['val_loss']\n",
    "epochs = range(len(accuracy))\n",
    "\n",
    "\n",
    "plt.figure(figsize = (10,4))\n",
    "plt.subplot(121)\n",
    "plt.plot(epochs, accuracy,'b',label='Training',linewidth = 2)\n",
    "plt.plot(epochs, val_accuracy,'b--', label='Validation',linewidth = 2)\n",
    "plt.xlabel('Epoch', size=10)\n",
    "plt.ylabel('Accuracy', size=10)\n",
    "plt.title('Accuracy',size = 12)\n",
    "plt.legend(fontsize=8)\n",
    "\n",
    "plt.subplot(122)\n",
    "plt.plot(epochs, loss,'b', label='Training',linewidth = 2)\n",
    "plt.plot(epochs, val_loss,'b--',label='Validation',linewidth = 2)\n",
    "plt.xlabel('Epoch', size=10)\n",
    "plt.ylabel('Loss', size=10)\n",
    "plt.title('Loss',size = 12)\n",
    "plt.legend(fontsize=8)\n",
    "\n",
    "plt.show()"
   ]
  },
  {
   "cell_type": "markdown",
   "metadata": {},
   "source": [
    "### Model evaluation"
   ]
  },
  {
   "cell_type": "code",
   "execution_count": null,
   "metadata": {},
   "outputs": [],
   "source": [
    "import seaborn as sns\n",
    "from sklearn import metrics\n",
    "\n",
    "y_pred = model.predict(X_test)\n",
    "\n",
    "\n",
    "Y_test = np.argmax(y_test, axis = 1)\n",
    "Y_pred = np.argmax(y_pred, axis = 1)\n",
    "\n",
    "\n",
    "cm1 = metrics.confusion_matrix(Y_test, Y_pred)\n",
    "cm_normalized = cm1.astype('float') / cm1.sum(axis=1)[:, np.newaxis]\n",
    "labels = ['anger','disgust','fear','happy','sad','surprise','neutral']\n",
    "plt.figure(figsize=(9,9))\n",
    "sns.heatmap(cm_normalized, annot=True, fmt=\".2f\", linewidths=.5, square=True, cmap='Blues',\n",
    "            cbar_kws={\"shrink\": .82},annot_kws={\"size\":12})\n",
    "plt.ylabel('True emotion', size=17,rotation = 90)\n",
    "tick_marks = np.array(range(len(labels))) + 0.5\n",
    "plt.xticks(tick_marks,labels,ha='center',fontsize = 12)\n",
    "plt.yticks(tick_marks,labels,va='center',fontsize = 12)\n",
    "plt.xlabel('Predicted emotion', size=14)\n",
    "plt.show()"
   ]
  },
  {
   "cell_type": "markdown",
   "metadata": {},
   "source": [
    "### 3 classes model evaluation"
   ]
  },
  {
   "cell_type": "code",
   "execution_count": null,
   "metadata": {},
   "outputs": [],
   "source": [
    "Y_test_3=  np.where(Y_test== 1,0,Y_test)\n",
    "Y_test_3 =  np.where(Y_test_3== 2, 0,Y_test_3)\n",
    "Y_test_3 =  np.where(Y_test_3== 3, 1,Y_test_3)\n",
    "Y_test_3 =  np.where(Y_test_3== 4, 0,Y_test_3)\n",
    "Y_test_3 =  np.where(Y_test_3== 5, 1,Y_test_3)\n",
    "Y_test_3 =  np.where(Y_test_3== 6, 2,Y_test_3)\n",
    "\n",
    "Y_pred_3 =  np.where(Y_pred== 1,0,Y_pred)\n",
    "Y_pred_3 =  np.where(Y_pred_3, 0,Y_pred_3)\n",
    "Y_pred_3 =  np.where(Y_pred== 3, 1,Y_pred_3)\n",
    "Y_pred_3 =  np.where(Y_pred== 4, 0,Y_pred_3)\n",
    "Y_pred_3 =  np.where(Y_pred== 5, 1,Y_pred_3)\n",
    "Y_pred_3 =  np.where(Y_pred== 6, 2,Y_pred_3)\n",
    "\n",
    "cm1 = metrics.confusion_matrix(Y_test_3, Y_pred_3)\n",
    "cm_normalized = cm1.astype('float') / cm1.sum(axis=1)[:, np.newaxis]\n",
    "# labels = ['anger','disgust','fear','happy','sad','surprise','neutral']\n",
    "labels = ['negative','positive','nutreul']\n",
    "plt.figure(figsize=(9,9))\n",
    "sns.heatmap(cm_normalized, annot=True, fmt=\".2f\", linewidths=.5, square=True, cmap='Blues',\n",
    "            cbar_kws={\"shrink\": .82},annot_kws={\"size\":12})\n",
    "plt.ylabel('True emotion', size=17,rotation = 90)\n",
    "tick_marks = np.array(range(len(labels))) + 0.5\n",
    "plt.xticks(tick_marks,labels,ha='center',fontsize = 12)\n",
    "plt.yticks(tick_marks,labels,va='center',fontsize = 12)\n",
    "plt.xlabel('Predicted emotion', size=14)\n",
    "plt.show()"
   ]
  },
  {
   "cell_type": "code",
   "execution_count": null,
   "metadata": {},
   "outputs": [],
   "source": [
    "import json\n",
    "\n",
    "with open('training_lm.json', 'w') as f:\n",
    "    json.dump(history.history, f)\n",
    "\n",
    "cfm = {}\n",
    "cfm['y_pred'] = [int(x) for x in Y_pred]\n",
    "cfm['y_test'] = [int(x) for x in Y_test]\n",
    "with open('comfusion_matrix_7c.json', 'w') as f:\n",
    "    json.dump(cfm, f)\n",
    "    \n",
    "cfm3 = {}\n",
    "cfm3['y_pred'] = [int(x) for x in Y_pred_3]\n",
    "cfm3['y_test'] = [int(x) for x in Y_test_3]\n",
    "with open('comfusion_matrix_3c.json', 'w') as f:\n",
    "    json.dump(cfm3, f)"
   ]
  },
  {
   "cell_type": "code",
   "execution_count": null,
   "metadata": {},
   "outputs": [],
   "source": []
  }
 ],
 "metadata": {
  "kernelspec": {
   "display_name": "Python 3",
   "language": "python",
   "name": "python3"
  },
  "language_info": {
   "codemirror_mode": {
    "name": "ipython",
    "version": 3
   },
   "file_extension": ".py",
   "mimetype": "text/x-python",
   "name": "python",
   "nbconvert_exporter": "python",
   "pygments_lexer": "ipython3",
   "version": "3.7.1"
  }
 },
 "nbformat": 4,
 "nbformat_minor": 4
}
